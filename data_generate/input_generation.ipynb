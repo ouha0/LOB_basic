{
 "cells": [
  {
   "cell_type": "markdown",
   "id": "fd5d0c94-8bb8-420a-bd47-c8f619e3661b",
   "metadata": {},
   "source": [
    "# "
   ]
  },
  {
   "cell_type": "code",
   "execution_count": 7,
   "id": "550c8004-c723-4126-beab-02b18114b337",
   "metadata": {},
   "outputs": [],
   "source": [
    "import random\n",
    "import sys\n",
    "from collections import deque"
   ]
  },
  {
   "cell_type": "code",
   "execution_count": 8,
   "id": "f7d367b6-ed07-402b-9cfa-75b7b0547fcb",
   "metadata": {},
   "outputs": [],
   "source": [
    "# --- Configuration ---\n",
    "NUM_COMMANDS = 1_000_000\n",
    "INITIAL_PRICE = 10000\n",
    "TICK_SIZE = 1\n",
    "SPREAD_HALFWIDTH = 5\n",
    "\n",
    "# Probabilities\n",
    "PROB_PASSIVE_ADD = 0.50  # passive orders are resting \n",
    "PROB_AGGRESSIVE_ADD = 0.30  # aggressive orders will most likely result in a match \n",
    "PROB_CANCEL = 0.20 \n"
   ]
  },
  {
   "cell_type": "code",
   "execution_count": 9,
   "id": "9344d62a-eba2-402b-942d-aa7a731d1e54",
   "metadata": {},
   "outputs": [],
   "source": [
    "def generate_orders_stateful(filename):\n",
    "    \"\"\"\n",
    "    Generates input, with some consideration of cancel orders\n",
    "    \"\"\"\n",
    "    print(f\"Generating {NUM_COMMANDS} state-aware commands to {filename}...\")\n",
    "    \n",
    "    mid_price = INITIAL_PRICE\n",
    "    order_id_counter = 1\n",
    "    \n",
    "    # Keep track of active resting orders, so cancel orders are more accurate \n",
    "    active_bids = deque()\n",
    "    active_asks = deque()\n",
    "\n",
    "    with open(filename, 'w') as f:\n",
    "        for i in range(NUM_COMMANDS):\n",
    "            # Choose action based on probability \n",
    "            action = random.choices(\n",
    "                population=['passive', 'aggressive', 'cancel'],\n",
    "                weights=[PROB_PASSIVE_ADD, PROB_AGGRESSIVE_ADD, PROB_CANCEL],\n",
    "                k=1\n",
    "            )[0]\n",
    "\n",
    "            # Change the mean price of commands over time; asset price moving like a random walk\n",
    "            mid_price += random.choice([-TICK_SIZE, TICK_SIZE])\n",
    "            best_bid_price = mid_price - SPREAD_HALFWIDTH\n",
    "            best_ask_price = mid_price + SPREAD_HALFWIDTH\n",
    "\n",
    "            if action == 'passive':\n",
    "                side = random.choice([\"BUY\", \"SELL\"])\n",
    "                quantity = random.randint(1, 100)\n",
    "                \n",
    "                current_order_id = order_id_counter\n",
    "                order_id_counter += 1\n",
    "                \n",
    "                if side == \"BUY\":\n",
    "                    price = best_bid_price - random.randint(0, 5) * TICK_SIZE\n",
    "                    active_bids.append(current_order_id)\n",
    "                else: # SELL\n",
    "                    price = best_ask_price + random.randint(0, 5) * TICK_SIZE\n",
    "                    active_asks.append(current_order_id)\n",
    "                \n",
    "                f.write(f\"ADD {side} {price} {quantity}\\n\")\n",
    "\n",
    "            # Orders that will most likely result in a match\n",
    "            elif action == 'aggressive':\n",
    "                side = random.choice([\"BUY\", \"SELL\"])\n",
    "                quantity = random.randint(1, 100)\n",
    "                \n",
    "                current_order_id = order_id_counter\n",
    "                order_id_counter += 1\n",
    "\n",
    "                # for an aggressive buy, there must be existing resting ask orders\n",
    "                if side == \"BUY\" and active_asks:\n",
    "                    price = best_ask_price + random.randint(0, 3) * TICK_SIZE\n",
    "                    f.write(f\"ADD {side} {price} {quantity}\\n\")\n",
    "\n",
    "                    if active_asks:\n",
    "                        active_asks.popleft() # Remove the oldest ask\n",
    "                        \n",
    "                elif side == \"SELL\" and active_bids:\n",
    "                    # Aggressive SELL crosses the spread and likely fills a resting BID\n",
    "                    price = best_bid_price - random.randint(0, 3) * TICK_SIZE\n",
    "                    f.write(f\"ADD {side} {price} {quantity}\\n\")\n",
    "                    \n",
    "                    if active_bids:\n",
    "                        active_bids.popleft() # Remove the oldest bid\n",
    "                else:\n",
    "                    # Skip iteration if no opposing orders \n",
    "                    continue\n",
    "\n",
    "            elif action == 'cancel':\n",
    "                if not active_bids and not active_asks:\n",
    "                    continue # Nothing to cancel\n",
    "\n",
    "                # Choose a side to cancel from, prioritizing the larger queue\n",
    "                cancel_side = \"BUY\"\n",
    "                # if no buy orders || (sell order exists and a \"toss a coin that is heads\")\n",
    "                if not active_bids or (active_asks and random.random() < 0.5):\n",
    "                    cancel_side = \"SELL\"\n",
    "                \n",
    "                if cancel_side == \"BUY\" and active_bids:\n",
    "                    id_to_cancel = active_bids.popleft() # Cancel the oldest bid\n",
    "                    f.write(f\"CANCEL {id_to_cancel}\\n\")\n",
    "                elif cancel_side == \"SELL\" and active_asks:\n",
    "                    id_to_cancel = active_asks.popleft() # Cancel the oldest ask\n",
    "                    f.write(f\"CANCEL {id_to_cancel}\\n\")\n",
    "\n",
    "    print(\"Generation complete.\")\n",
    "\n"
   ]
  },
  {
   "cell_type": "code",
   "execution_count": 6,
   "id": "99ae6fd6-b9d1-4714-be51-6f7c2cd4e96c",
   "metadata": {},
   "outputs": [
    {
     "name": "stdout",
     "output_type": "stream",
     "text": [
      "Generating 1000000 state-aware commands to -f...\n",
      "Generation complete.\n"
     ]
    }
   ],
   "source": [
    "# Main file\n",
    "if __name__ == \"__main__\":\n",
    "    if len(sys.argv) > 1:\n",
    "        output_filename = sys.argv[1]\n",
    "    else:\n",
    "        output_filename = \"input_generate_test.txt\" # New default name\n",
    "    generate_orders_stateful(output_filename)"
   ]
  },
  {
   "cell_type": "code",
   "execution_count": null,
   "id": "b580346c-f3b5-44e4-b750-09dc4f061e88",
   "metadata": {},
   "outputs": [],
   "source": []
  }
 ],
 "metadata": {
  "kernelspec": {
   "display_name": "Python 3 (ipykernel)",
   "language": "python",
   "name": "python3"
  },
  "language_info": {
   "codemirror_mode": {
    "name": "ipython",
    "version": 3
   },
   "file_extension": ".py",
   "mimetype": "text/x-python",
   "name": "python",
   "nbconvert_exporter": "python",
   "pygments_lexer": "ipython3",
   "version": "3.9.19"
  }
 },
 "nbformat": 4,
 "nbformat_minor": 5
}
